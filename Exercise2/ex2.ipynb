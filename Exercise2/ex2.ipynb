{
 "cells": [
  {
   "cell_type": "code",
   "execution_count": 1,
   "metadata": {},
   "outputs": [],
   "source": [
    "import numpy as np\n",
    "import pandas as pd\n",
    "import matplotlib.pyplot as plt\n",
    "from scipy import optimize\n",
    "import os, utils"
   ]
  },
  {
   "cell_type": "code",
   "execution_count": 2,
   "metadata": {},
   "outputs": [],
   "source": [
    "def loadData( dataset, label):\n",
    "    data = pd.read_csv(dataset, header=None)\n",
    "\n",
    "    X = data.iloc[:,0:label].values\n",
    "    y = data.iloc[:,label].values\n",
    "    #y= y[:, np.newaxis]\n",
    "    \n",
    "    return X, y"
   ]
  },
  {
   "cell_type": "code",
   "execution_count": 3,
   "metadata": {},
   "outputs": [],
   "source": [
    "def plotData( X, y): #labelX, labelY, legend1, legend2):\n",
    "    pos = np.where(y==1)\n",
    "    neg = np.where(y==0)\n",
    "    \n",
    "    plt.plot( X[pos[0], 0], X[pos[0], 1], 'k+')\n",
    "    plt.plot( X[neg[0], 0], X[neg[0], 1], 'yo')\n",
    "    \n",
    "    #plt.xlabel(labelX)\n",
    "    #plt.ylabel(labelY)\n",
    "    #plt.legend([legend1, legend2], loc='upper right')"
   ]
  },
  {
   "cell_type": "code",
   "execution_count": 4,
   "metadata": {},
   "outputs": [],
   "source": [
    "def sigmoid( z):\n",
    "    return 1 / ( 1 + np.exp(np.array( -z ) ) )"
   ]
  },
  {
   "cell_type": "code",
   "execution_count": 5,
   "metadata": {},
   "outputs": [],
   "source": [
    "def initFeaturesTheta(X):\n",
    "    m,n = X.shape\n",
    "    X = np.append( np.ones( (m, 1) ), X, axis=1)\n",
    "    t = np.zeros(n+1)\n",
    "    \n",
    "    return X, t, m, n"
   ]
  },
  {
   "cell_type": "code",
   "execution_count": 6,
   "metadata": {},
   "outputs": [],
   "source": [
    "def costFunction( theta, X ,y):\n",
    "    m = y.size\n",
    "    J = 0\n",
    "    grad = np.zeros(theta.shape)\n",
    "    \n",
    "    h = sigmoid( X @ theta)\n",
    "    \n",
    "    J = ( -y.T @ np.log( h) - ( 1 - y).T @ np.log( 1 - h) ) / m\n",
    "    \n",
    "    print(y.shape)\n",
    "    \n",
    "    grad = ( X.T @ (h - y) ) / m\n",
    "    \n",
    "    return J, grad"
   ]
  },
  {
   "cell_type": "code",
   "execution_count": 7,
   "metadata": {},
   "outputs": [],
   "source": [
    "def computeGradient( theta, X, y, m):\n",
    "    theta = theta[:, np.newaxis]\n",
    "    grad = np.zeros( (theta.shape))\n",
    "    \n",
    "    h = sigmoid( X @ theta) \n",
    "    grad = ( X.T @ (h - y) ) / m\n",
    "    \n",
    "    return grad"
   ]
  },
  {
   "cell_type": "code",
   "execution_count": 8,
   "metadata": {},
   "outputs": [],
   "source": [
    "def predictProb( X, theta, labelled=True):\n",
    "    m = X.shape[0]\n",
    "    p = np.zeros((m, 1))\n",
    "    #theta = theta[:, np.newaxis]\n",
    "    \n",
    "    p = sigmoid( X @ theta)\n",
    "    \n",
    "    if labelled==False:\n",
    "        return p\n",
    "    \n",
    "    return (( p >= 0.5) * 1)"
   ]
  },
  {
   "cell_type": "code",
   "execution_count": 9,
   "metadata": {},
   "outputs": [],
   "source": [
    "def findAccuracy( X, y, theta):\n",
    "    p = predictProb(X, theta)\n",
    "    \n",
    "    return ( np.sum( p == y) / y.shape[0]) * 100"
   ]
  },
  {
   "cell_type": "code",
   "execution_count": 10,
   "metadata": {},
   "outputs": [],
   "source": [
    "def costFunctionReg(theta, X, y, lambda_):\n",
    "    m = y.size\n",
    "    J = 0\n",
    "    grad = np.zeros(theta.shape)\n",
    "    \n",
    "    h = sigmoid(X @ theta)\n",
    "    reg = theta[1:].T @ theta[1:]\n",
    "    \n",
    "    J = (( -y.T @ np.log( h) - ( 1 - y).T @ np.log( 1 - h) ) \\\n",
    "        / m) + ( lambda_ * reg / (2 * m) )\n",
    "    \n",
    "    grad[0] = ( X[:,0].T @ (h - y) ) / m\n",
    "    grad[1:] = ( X[:,1:].T @ (h - y) + \\\n",
    "        ( lambda_ * theta[1:]) ) / m\n",
    "    \n",
    "    return J, grad"
   ]
  },
  {
   "cell_type": "code",
   "execution_count": 12,
   "metadata": {},
   "outputs": [],
   "source": [
    "# Load data\n",
    "initX, y = loadData('Data/ex2data1.txt', 2)"
   ]
  },
  {
   "cell_type": "code",
   "execution_count": 13,
   "metadata": {},
   "outputs": [
    {
     "data": {
      "text/plain": [
       "<matplotlib.legend.Legend at 0x11376270>"
      ]
     },
     "execution_count": 13,
     "metadata": {},
     "output_type": "execute_result"
    },
    {
     "data": {
      "image/png": "[encoded data removed]",
      "text/plain": [
       "<Figure size 432x288 with 1 Axes>"
      ]
     },
     "metadata": {
      "needs_background": "light"
     },
     "output_type": "display_data"
    }
   ],
   "source": [
    "# Visualize data\n",
    "plotData(initX, y)\n",
    "\n",
    "plt.xlabel('Exam 1 score')\n",
    "plt.ylabel('Exam 2 score')\n",
    "plt.legend(['Admitted', 'Not admitted'])"
   ]
  },
  {
   "cell_type": "code",
   "execution_count": 14,
   "metadata": {},
   "outputs": [
    {
     "data": {
      "text/plain": [
       "0.5"
      ]
     },
     "execution_count": 14,
     "metadata": {},
     "output_type": "execute_result"
    }
   ],
   "source": [
    "# test sigmoid function\n",
    "sigmoid(0)"
   ]
  },
  {
   "cell_type": "code",
   "execution_count": 15,
   "metadata": {},
   "outputs": [],
   "source": [
    "# initialize features and theta\n",
    "X, initialTheta, m, n = initFeaturesTheta(initX)"
   ]
  },
  {
   "cell_type": "code",
   "execution_count": 16,
   "metadata": {},
   "outputs": [
    {
     "name": "stdout",
     "output_type": "stream",
     "text": [
      "(100,)\n",
      "Cost at initial theta (zeros): 0.6931471805599453\n",
      "Gradient at initial theta (zeros):\n",
      "[ -0.1        -12.00921659 -11.26284221]\n"
     ]
    }
   ],
   "source": [
    "# compute gradient\n",
    "cost, grad = costFunction(initialTheta, X, y)\n",
    "# grad = computeGradient(initialTheta, X, y)\n",
    "\n",
    "print('Cost at initial theta (zeros): {}'.format( cost))\n",
    "print('Gradient at initial theta (zeros):\\n{}'.format( grad))"
   ]
  },
  {
   "cell_type": "code",
   "execution_count": 18,
   "metadata": {},
   "outputs": [
    {
     "name": "stdout",
     "output_type": "stream",
     "text": [
      "(100,)\n",
      "(100,)\n",
      "(100,)\n",
      "(100,)\n",
      "(100,)\n",
      "(100,)\n",
      "(100,)\n",
      "(100,)\n",
      "(100,)\n",
      "(100,)\n",
      "(100,)\n",
      "(100,)\n",
      "(100,)\n",
      "(100,)\n",
      "(100,)\n",
      "(100,)\n",
      "(100,)\n",
      "(100,)\n",
      "(100,)\n",
      "(100,)\n",
      "(100,)\n",
      "(100,)\n",
      "(100,)\n",
      "(100,)\n",
      "(100,)\n",
      "(100,)\n",
      "(100,)\n",
      "(100,)\n",
      "(100,)\n",
      "(100,)\n",
      "(100,)\n",
      "(100,)\n",
      "(100,)\n",
      "(100,)\n",
      "(100,)\n",
      "(100,)\n",
      "Cost at theta found by optimize.minimize: 0.203\n",
      "Expected cost (approx): 0.203\n",
      "\n",
      "theta:\n",
      "\t[-25.161, 0.206, 0.201]\n",
      "Expected theta (approx):\n",
      "\t[-25.161, 0.206, 0.201]\n",
      "Accuracy: 89.0\n",
      "For a test 1 and test 2 score of 45 and 85, respectively, the probability to be accepted is 77.63%\n"
     ]
    },
    {
     "data": {
      "image/png": "[encoded data removed]",
      "text/plain": [
       "<Figure size 432x288 with 1 Axes>"
      ]
     },
     "metadata": {
      "needs_background": "light"
     },
     "output_type": "display_data"
    }
   ],
   "source": [
    "# set options for optimize.minimize\n",
    "options= {'maxiter': 400}\n",
    "\n",
    "# see documention for scipy's optimize.minimize  for description about\n",
    "# the different parameters\n",
    "# The function returns an object `OptimizeResult`\n",
    "# We use truncated Newton algorithm for optimization which is \n",
    "# equivalent to MATLAB's fminunc\n",
    "# See https://stackoverflow.com/questions/18801002/fminunc-alternate-in-numpy\n",
    "res = optimize.minimize(costFunction,\n",
    "                        initialTheta,\n",
    "                        (X, y),\n",
    "                        jac=True,\n",
    "                        method='TNC',\n",
    "                        options=options)\n",
    "\n",
    "# the fun property of `OptimizeResult` object returns\n",
    "# the value of costFunction at optimized theta\n",
    "cost = res.fun\n",
    "\n",
    "# the optimized theta is in the x property\n",
    "theta = res.x\n",
    "\n",
    "# Print theta to screen\n",
    "print('Cost at theta found by optimize.minimize: {:.3f}'.format(cost))\n",
    "print('Expected cost (approx): 0.203\\n');\n",
    "\n",
    "print('theta:')\n",
    "print('\\t[{:.3f}, {:.3f}, {:.3f}]'.format(*theta))\n",
    "print('Expected theta (approx):\\n\\t[-25.161, 0.206, 0.201]')\n",
    "\n",
    "# check decision boundary of current theta\n",
    "utils.plotDecisionBoundary(plotData, theta, X, y)\n",
    "\n",
    "# predict results of dataset\n",
    "accTrain = findAccuracy(X, y, theta)\n",
    "\n",
    "print(\"Accuracy: {}\".format(accTrain))\n",
    "\n",
    "# make one predicion\n",
    "prob = sigmoid( np.array([1, 45, 85]) @ theta)\n",
    "print(\"For a test 1 and test 2 score of {} and {}, respectively, \\\n",
    "the probability to be accepted is {:.2f}%\".format(45, 85, prob*100))"
   ]
  },
  {
   "cell_type": "code",
   "execution_count": 20,
   "metadata": {},
   "outputs": [
    {
     "data": {
      "text/plain": [
       "array([[ 0.051267,  0.69956 ,  1.      ],\n",
       "       [-0.092742,  0.68494 ,  1.      ],\n",
       "       [-0.21371 ,  0.69225 ,  1.      ],\n",
       "       [-0.375   ,  0.50219 ,  1.      ],\n",
       "       [-0.51325 ,  0.46564 ,  1.      ],\n",
       "       [-0.52477 ,  0.2098  ,  1.      ],\n",
       "       [-0.39804 ,  0.034357,  1.      ],\n",
       "       [-0.30588 , -0.19225 ,  1.      ],\n",
       "       [ 0.016705, -0.40424 ,  1.      ],\n",
       "       [ 0.13191 , -0.51389 ,  1.      ]])"
      ]
     },
     "execution_count": 20,
     "metadata": {},
     "output_type": "execute_result"
    }
   ],
   "source": [
    "# load data for regularized logisitic regression\n",
    "data = np.loadtxt('Data/ex2data2.txt', delimiter=',')\n",
    "data[:10,:]"
   ]
  },
  {
   "cell_type": "code",
   "execution_count": 21,
   "metadata": {},
   "outputs": [],
   "source": [
    "X = data[:, :2]\n",
    "y = data[:, 2]"
   ]
  },
  {
   "cell_type": "code",
   "execution_count": 22,
   "metadata": {},
   "outputs": [
    {
     "data": {
      "image/png": "[encoded data removed]",
      "text/plain": [
       "<Figure size 432x288 with 1 Axes>"
      ]
     },
     "metadata": {
      "needs_background": "light"
     },
     "output_type": "display_data"
    }
   ],
   "source": [
    "# visualize the data\n",
    "plotData(X, y)"
   ]
  },
  {
   "cell_type": "code",
   "execution_count": 23,
   "metadata": {},
   "outputs": [],
   "source": [
    "# Note that mapFeature also adds a column of ones for us, so the intercept\n",
    "# term is handled\n",
    "X = utils.mapFeature(X[:, 0], X[:, 1])"
   ]
  },
  {
   "cell_type": "code",
   "execution_count": 24,
   "metadata": {},
   "outputs": [
    {
     "data": {
      "text/plain": [
       "(118, 28)"
      ]
     },
     "execution_count": 24,
     "metadata": {},
     "output_type": "execute_result"
    }
   ],
   "source": [
    "X.shape"
   ]
  },
  {
   "cell_type": "code",
   "execution_count": 25,
   "metadata": {},
   "outputs": [
    {
     "name": "stdout",
     "output_type": "stream",
     "text": [
      "Cost at initial theta (zeros): 0.693\n",
      "Expected cost (approx)       : 0.693\n",
      "\n",
      "Gradient at initial theta (zeros) - first five values only:\n",
      "\t[0.0085, 0.0188, 0.0001, 0.0503, 0.0115]\n",
      "Expected gradients (approx) - first five values only:\n",
      "\t[0.0085, 0.0188, 0.0001, 0.0503, 0.0115]\n",
      "\n"
     ]
    }
   ],
   "source": [
    "# regularized logistic regression\n",
    "initialTheta = np.zeros(X.shape[1])\n",
    "lambda_ = 1\n",
    "\n",
    "cost, grad = costFunctionReg(initialTheta, X, y, lambda_)\n",
    "\n",
    "print('Cost at initial theta (zeros): {:.3f}'.format(cost))\n",
    "print('Expected cost (approx)       : 0.693\\n')\n",
    "\n",
    "print('Gradient at initial theta (zeros) - first five values only:')\n",
    "print('\\t[{:.4f}, {:.4f}, {:.4f}, {:.4f}, {:.4f}]'.format(*grad[:5]))\n",
    "print('Expected gradients (approx) - first five values only:')\n",
    "print('\\t[0.0085, 0.0188, 0.0001, 0.0503, 0.0115]\\n')"
   ]
  },
  {
   "cell_type": "code",
   "execution_count": 26,
   "metadata": {},
   "outputs": [
    {
     "name": "stderr",
     "output_type": "stream",
     "text": [
      "C:\\Users\\jerom\\Desktop\\python_lab\\ml-coursera-python-assignments\\Exercise2\\utils.py:45: VisibleDeprecationWarning: Creating an ndarray from ragged nested sequences (which is a list-or-tuple of lists-or-tuples-or ndarrays with different lengths or shapes) is deprecated. If you meant to do this, you must specify 'dtype=object' when creating the ndarray\n",
      "  return np.array(out)\n"
     ]
    },
    {
     "name": "stdout",
     "output_type": "stream",
     "text": [
      "Train Accuracy: 83.1 %\n",
      "Expected accuracy (with lambda = 1): 83.1 % (approx)\n",
      "\n"
     ]
    },
    {
     "data": {
      "image/png": "[encoded data removed]",
      "text/plain": [
       "<Figure size 432x288 with 1 Axes>"
      ]
     },
     "metadata": {
      "needs_background": "light"
     },
     "output_type": "display_data"
    }
   ],
   "source": [
    "# Initialize fitting parameters\n",
    "initial_theta = np.zeros(X.shape[1])\n",
    "\n",
    "# Set regularization parameter lambda to 1 (you should vary this)\n",
    "# without regularization, use 0\n",
    "lambda_ = 1\n",
    "\n",
    "# set options for optimize.minimize\n",
    "options= {'maxiter': 100}\n",
    "\n",
    "# without regulatization\n",
    "\n",
    "\n",
    "res = optimize.minimize(costFunctionReg,\n",
    "                        initial_theta,\n",
    "                        (X, y, lambda_),\n",
    "                        jac=True,\n",
    "                        method='TNC',\n",
    "                        options=options)\n",
    "\n",
    "# the fun property of OptimizeResult object returns\n",
    "# the value of costFunction at optimized theta\n",
    "cost = res.fun\n",
    "\n",
    "# the optimized theta is in the x property of the result\n",
    "theta = res.x\n",
    "\n",
    "utils.plotDecisionBoundary(plotData, theta, X, y)\n",
    "plt.xlabel('Microchip Test 1')\n",
    "plt.ylabel('Microchip Test 2')\n",
    "plt.legend(['y = 1', 'y = 0'])\n",
    "plt.grid(False)\n",
    "plt.title('lambda = %0.2f' % lambda_)\n",
    "\n",
    "# Compute accuracy on our training set\n",
    "p = findAccuracy(X, y, theta)\n",
    "\n",
    "print('Train Accuracy: %.1f %%' % p)\n",
    "print('Expected accuracy (with lambda = 1): 83.1 % (approx)\\n')"
   ]
  },
  {
   "cell_type": "code",
   "execution_count": 27,
   "metadata": {},
   "outputs": [
    {
     "data": {
      "text/plain": [
       "(118,)"
      ]
     },
     "execution_count": 27,
     "metadata": {},
     "output_type": "execute_result"
    }
   ],
   "source": [
    "(X @ theta).shape"
   ]
  },
  {
   "cell_type": "code",
   "execution_count": 28,
   "metadata": {},
   "outputs": [
    {
     "data": {
      "text/plain": [
       "1.4647552973456268"
      ]
     },
     "execution_count": 28,
     "metadata": {},
     "output_type": "execute_result"
    }
   ],
   "source": [
    "(X @ theta).max()"
   ]
  },
  {
   "cell_type": "code",
   "execution_count": 29,
   "metadata": {},
   "outputs": [
    {
     "data": {
      "text/plain": [
       "array([0.69870505, 0.71817649, 0.69977353, 0.72976217, 0.65045262,\n",
       "       0.62411762, 0.66975093, 0.63410655, 0.63581287, 0.58130001,\n",
       "       0.53404019, 0.51692601, 0.58122057, 0.48082491, 0.63001946,\n",
       "       0.71395318, 0.77646893, 0.5605122 , 0.70039077, 0.62427352,\n",
       "       0.52041492, 0.53189093, 0.49043615, 0.51926709, 0.60454412,\n",
       "       0.51318411, 0.53457978, 0.39394867, 0.78062589, 0.58962729,\n",
       "       0.2411283 , 0.58520405, 0.73519566, 0.76690428, 0.74121959,\n",
       "       0.71610809, 0.65603283, 0.72047554, 0.74695251, 0.65386928,\n",
       "       0.72894157, 0.69857427, 0.60402047, 0.74505259, 0.64621743,\n",
       "       0.68058566, 0.42084517, 0.77119401, 0.56066415, 0.61757725,\n",
       "       0.76640537, 0.81225891, 0.7826851 , 0.79088653, 0.77610471,\n",
       "       0.69007333, 0.73305131, 0.66471652, 0.23644723, 0.54370278,\n",
       "       0.69840562, 0.36495369, 0.28437826, 0.47423425, 0.30637503,\n",
       "       0.10456134, 0.31487852, 0.10051161, 0.13725881, 0.27141968,\n",
       "       0.19371044, 0.23483607, 0.2073495 , 0.23392038, 0.27251578,\n",
       "       0.46301755, 0.61181949, 0.52754642, 0.32428622, 0.32695183,\n",
       "       0.52886043, 0.56424347, 0.43812183, 0.54858251, 0.18975318,\n",
       "       0.36594117, 0.33373871, 0.33737099, 0.62082716, 0.30501643,\n",
       "       0.26396956, 0.5095457 , 0.59060804, 0.31813146, 0.18091078,\n",
       "       0.02717287, 0.01637929, 0.34352121, 0.06301144, 0.09904944,\n",
       "       0.32342188, 0.01572742, 0.48676736, 0.35180267, 0.61021028,\n",
       "       0.44408329, 0.55550941, 0.6942122 , 0.43928895, 0.30610436,\n",
       "       0.26496746, 0.27915482, 0.21006781, 0.37642012, 0.56731468,\n",
       "       0.11677625, 0.15347748, 0.63455243])"
      ]
     },
     "execution_count": 29,
     "metadata": {},
     "output_type": "execute_result"
    }
   ],
   "source": [
    "sigmoid(X@theta)"
   ]
  }
 ],
 "metadata": {
  "kernelspec": {
   "display_name": "Python 3",
   "language": "python",
   "name": "python3"
  },
  "language_info": {
   "codemirror_mode": {
    "name": "ipython",
    "version": 3
   },
   "file_extension": ".py",
   "mimetype": "text/x-python",
   "name": "python",
   "nbconvert_exporter": "python",
   "pygments_lexer": "ipython3",
   "version": "3.7.5"
  }
 },
 "nbformat": 4,
 "nbformat_minor": 4
}
