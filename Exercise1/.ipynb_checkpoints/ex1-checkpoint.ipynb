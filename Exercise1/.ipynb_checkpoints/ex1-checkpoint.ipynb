{
 "cells": [
  {
   "cell_type": "markdown",
   "metadata": {},
   "source": [
    "Univariate linear regression"
   ]
  },
  {
   "cell_type": "code",
   "execution_count": 1,
   "metadata": {},
   "outputs": [],
   "source": [
    "# import modules\n",
    "import numpy as np\n",
    "import pandas as pd\n",
    "import matplotlib.pyplot as plt"
   ]
  },
  {
   "cell_type": "code",
   "execution_count": 2,
   "metadata": {},
   "outputs": [
    {
     "data": {
      "text/plain": [
       "array([[1., 0., 0., 0., 0.],\n",
       "       [0., 1., 0., 0., 0.],\n",
       "       [0., 0., 1., 0., 0.],\n",
       "       [0., 0., 0., 1., 0.],\n",
       "       [0., 0., 0., 0., 1.]])"
      ]
     },
     "execution_count": 2,
     "metadata": {},
     "output_type": "execute_result"
    }
   ],
   "source": [
    "# test modules\n",
    "np.eye(5)"
   ]
  },
  {
   "cell_type": "code",
   "execution_count": 5,
   "metadata": {},
   "outputs": [
    {
     "data": {
      "text/plain": [
       "(          0         1\n",
       " 0    6.1101  17.59200\n",
       " 1    5.5277   9.13020\n",
       " 2    8.5186  13.66200\n",
       " 3    7.0032  11.85400\n",
       " 4    5.8598   6.82330\n",
       " ..      ...       ...\n",
       " 92   5.8707   7.20290\n",
       " 93   5.3054   1.98690\n",
       " 94   8.2934   0.14454\n",
       " 95  13.3940   9.05510\n",
       " 96   5.4369   0.61705\n",
       " \n",
       " [97 rows x 2 columns],\n",
       " (97, 2))"
      ]
     },
     "execution_count": 5,
     "metadata": {},
     "output_type": "execute_result"
    }
   ],
   "source": [
    "# load data \n",
    "data = pd.read_csv(\"Data/ex1data1.txt\", header=None)\n",
    "data, data.shape"
   ]
  },
  {
   "cell_type": "code",
   "execution_count": 7,
   "metadata": {},
   "outputs": [
    {
     "data": {
      "text/plain": [
       "(    population    profit\n",
       " 0       6.1101  17.59200\n",
       " 1       5.5277   9.13020\n",
       " 2       8.5186  13.66200\n",
       " 3       7.0032  11.85400\n",
       " 4       5.8598   6.82330\n",
       " ..         ...       ...\n",
       " 92      5.8707   7.20290\n",
       " 93      5.3054   1.98690\n",
       " 94      8.2934   0.14454\n",
       " 95     13.3940   9.05510\n",
       " 96      5.4369   0.61705\n",
       " \n",
       " [97 rows x 2 columns],\n",
       " (97, 2))"
      ]
     },
     "execution_count": 7,
     "metadata": {},
     "output_type": "execute_result"
    }
   ],
   "source": [
    "data=pd.read_csv(\"Data/ex1data1.txt\",names=['population','profit'])\n",
    "data,data.shape"
   ]
  },
  {
   "cell_type": "code",
   "execution_count": 8,
   "metadata": {},
   "outputs": [
    {
     "data": {
      "text/plain": [
       "(97, 1)"
      ]
     },
     "execution_count": 8,
     "metadata": {},
     "output_type": "execute_result"
    }
   ],
   "source": [
    "# assign features and labels\n",
    "X=data.iloc[:,0].values\n",
    "X=X[:,np.newaxis] # reshape X to be a column vector\n",
    "X.shape"
   ]
  },
  {
   "cell_type": "code",
   "execution_count": 10,
   "metadata": {},
   "outputs": [
    {
     "data": {
      "text/plain": [
       "(97, 1)"
      ]
     },
     "execution_count": 10,
     "metadata": {},
     "output_type": "execute_result"
    }
   ],
   "source": [
    "y=data.iloc[:,1].values\n",
    "y=y[:,np.newaxis]\n",
    "y.shape"
   ]
  },
  {
   "cell_type": "code",
   "execution_count": 11,
   "metadata": {},
   "outputs": [
    {
     "data": {
      "text/plain": [
       "[<matplotlib.lines.Line2D at 0xdc57b30>]"
      ]
     },
     "execution_count": 11,
     "metadata": {},
     "output_type": "execute_result"
    },
    {
     "data": {
      "image/png": "[encoded data removed]",
      "text/plain": [
       "<Figure size 432x288 with 1 Axes>"
      ]
     },
     "metadata": {
      "needs_background": "light"
     },
     "output_type": "display_data"
    }
   ],
   "source": [
    "# plot data\n",
    "plt.plot(X,y,'rx')"
   ]
  },
  {
   "cell_type": "code",
   "execution_count": 12,
   "metadata": {},
   "outputs": [],
   "source": [
    "# implement gradient descent (model)\n",
    "m=X.shape[0] # number of training examples\n",
    "X=np.append(np.ones((m,1)), X, axis=1) # Add a column of ones to x\n",
    "theta=np.zeros((2,1)) # initialize fitting parameters\n",
    "iterations=1500\n",
    "alpha=0.01"
   ]
  },
  {
   "cell_type": "code",
   "execution_count": 13,
   "metadata": {},
   "outputs": [
    {
     "data": {
      "text/plain": [
       "32.072733877455676"
      ]
     },
     "execution_count": 13,
     "metadata": {},
     "output_type": "execute_result"
    }
   ],
   "source": [
    "# Compute and display initial cost with theta all zeros\n",
    "J=np.sum(np.square(np.matmul(X,theta) - y))/(2*m)\n",
    "J"
   ]
  },
  {
   "cell_type": "code",
   "execution_count": 14,
   "metadata": {},
   "outputs": [
    {
     "data": {
      "text/plain": [
       "54.24245508201238"
      ]
     },
     "execution_count": 14,
     "metadata": {},
     "output_type": "execute_result"
    }
   ],
   "source": [
    "# Compute and display initial cost with non-zero theta\n",
    "J=np.sum(np.square(np.matmul(X,np.array([[-1],[2]])) - y))/(2*m)\n",
    "J"
   ]
  },
  {
   "cell_type": "code",
   "execution_count": 15,
   "metadata": {},
   "outputs": [],
   "source": [
    "# Run gradient descent:\n",
    "# Compute theta\n",
    "J_history=np.zeros((iterations,1))\n",
    "for iter in range(iterations):\n",
    "    theta[0]=theta[0] - (alpha/m * (np.sum(np.matmul(X,theta) - y)))\n",
    "    theta[1]=theta[1] - (alpha/m * (np.sum(((np.matmul(X,theta) - y) \\\n",
    "                            * X[:,1].reshape((X[:,1].shape[0],1))))))\n",
    "    # Save the cost J in every iteration \n",
    "    J_history[iter]=np.sum(np.square(np.matmul(X,theta) - y))/(2*m)\n"
   ]
  },
  {
   "cell_type": "code",
   "execution_count": 16,
   "metadata": {},
   "outputs": [
    {
     "name": "stdout",
     "output_type": "stream",
     "text": [
      "Theta computed from gradient descent:       \n",
      "[-3.63606348],\n",
      "[1.16698916]\n"
     ]
    }
   ],
   "source": [
    "# Print theta to screen\n",
    "# Display gradient descent's result\n",
    "print('Theta computed from gradient descent: \\\n",
    "      \\n{},\\n{}'.format(theta[0],theta[1]))"
   ]
  },
  {
   "cell_type": "code",
   "execution_count": 17,
   "metadata": {},
   "outputs": [
    {
     "data": {
      "text/plain": [
       "<matplotlib.legend.Legend at 0xdc57b70>"
      ]
     },
     "execution_count": 17,
     "metadata": {},
     "output_type": "execute_result"
    },
    {
     "data": {
      "image/png": "[encoded data removed]",
      "text/plain": [
       "<Figure size 432x288 with 1 Axes>"
      ]
     },
     "metadata": {
      "needs_background": "light"
     },
     "output_type": "display_data"
    }
   ],
   "source": [
    "# Plot the linear fit\n",
    "plt.plot(X[:,1],y,'rx', X[:,1],np.matmul(X,theta),'-')\n",
    "plt.legend(['Training data', 'Linear regression'])"
   ]
  },
  {
   "cell_type": "code",
   "execution_count": 18,
   "metadata": {},
   "outputs": [
    {
     "data": {
      "text/plain": [
       "(array([[4483.98578098]]), array([[45328.60631675]]))"
      ]
     },
     "execution_count": 18,
     "metadata": {},
     "output_type": "execute_result"
    }
   ],
   "source": [
    "# Predict values for population sizes of 35,000 and 70,000\n",
    "predict1=np.matmul(np.array([[1,3.5]]),theta)\n",
    "predict2=np.matmul(np.array([[1,7]]),theta)\n",
    "predict1*10000, predict2*10000"
   ]
  },
  {
   "cell_type": "code",
   "execution_count": 19,
   "metadata": {},
   "outputs": [],
   "source": [
    "# Visualizing J(theta_0, theta_1):\n",
    "# Grid over which we will calculate J\n",
    "theta0_vals = np.linspace(-10, 10, 100)\n",
    "theta1_vals = np.linspace(-1, 4, 100)\n",
    "\n",
    "# initialize J_vals to a matrix of 0's\n",
    "# Cost using the respective theta space\n",
    "J_vals = np.zeros((np.size(theta0_vals), np.size(theta1_vals)))\n",
    "for i in range(np.size(theta0_vals)):\n",
    "    for j in range(np.size(theta1_vals)):\n",
    "        t=[theta0_vals[i],theta1_vals[j]]\n",
    "        J_vals[i,j]=np.sum(np.square(np.matmul(X,t) - y))/(2*m)\n"
   ]
  },
  {
   "cell_type": "code",
   "execution_count": 20,
   "metadata": {},
   "outputs": [
    {
     "data": {
      "text/plain": [
       "<mpl_toolkits.mplot3d.art3d.Poly3DCollection at 0xed36310>"
      ]
     },
     "execution_count": 20,
     "metadata": {},
     "output_type": "execute_result"
    },
    {
     "data": {
      "image/png": "[encoded data removed]",
      "text/plain": [
       "<Figure size 432x288 with 1 Axes>"
      ]
     },
     "metadata": {
      "needs_background": "light"
     },
     "output_type": "display_data"
    }
   ],
   "source": [
    "theta0_vals, theta1_vals = np.meshgrid(theta0_vals, theta1_vals)\n",
    "fig3d=plt.figure()\n",
    "ax3d=fig3d.gca(projection='3d')\n",
    "ax3d.plot_surface(theta0_vals,theta1_vals,J_vals)"
   ]
  },
  {
   "cell_type": "markdown",
   "metadata": {},
   "source": [
    "Linear regression with multiple variables"
   ]
  },
  {
   "cell_type": "code",
   "execution_count": 22,
   "metadata": {},
   "outputs": [
    {
     "data": {
      "text/plain": [
       "(       0  1       2\n",
       " 0   2104  3  399900\n",
       " 1   1600  3  329900\n",
       " 2   2400  3  369000\n",
       " 3   1416  2  232000\n",
       " 4   3000  4  539900\n",
       " 5   1985  4  299900\n",
       " 6   1534  3  314900\n",
       " 7   1427  3  198999\n",
       " 8   1380  3  212000\n",
       " 9   1494  3  242500\n",
       " 10  1940  4  239999\n",
       " 11  2000  3  347000\n",
       " 12  1890  3  329999\n",
       " 13  4478  5  699900\n",
       " 14  1268  3  259900\n",
       " 15  2300  4  449900\n",
       " 16  1320  2  299900\n",
       " 17  1236  3  199900\n",
       " 18  2609  4  499998\n",
       " 19  3031  4  599000\n",
       " 20  1767  3  252900\n",
       " 21  1888  2  255000\n",
       " 22  1604  3  242900\n",
       " 23  1962  4  259900\n",
       " 24  3890  3  573900\n",
       " 25  1100  3  249900\n",
       " 26  1458  3  464500\n",
       " 27  2526  3  469000\n",
       " 28  2200  3  475000\n",
       " 29  2637  3  299900\n",
       " 30  1839  2  349900\n",
       " 31  1000  1  169900\n",
       " 32  2040  4  314900\n",
       " 33  3137  3  579900\n",
       " 34  1811  4  285900\n",
       " 35  1437  3  249900\n",
       " 36  1239  3  229900\n",
       " 37  2132  4  345000\n",
       " 38  4215  4  549000\n",
       " 39  2162  4  287000\n",
       " 40  1664  2  368500\n",
       " 41  2238  3  329900\n",
       " 42  2567  4  314000\n",
       " 43  1200  3  299000\n",
       " 44   852  2  179900\n",
       " 45  1852  4  299900\n",
       " 46  1203  3  239500,\n",
       " (47, 3))"
      ]
     },
     "execution_count": 22,
     "metadata": {},
     "output_type": "execute_result"
    }
   ],
   "source": [
    "data=pd.read_csv('Data/ex1data2.txt',header=None)\n",
    "data,data.shape"
   ]
  },
  {
   "cell_type": "code",
   "execution_count": 23,
   "metadata": {},
   "outputs": [],
   "source": [
    "X=data.iloc[:,0:2].values\n",
    "y=data.iloc[:,2].values\n",
    "y=y[:, np.newaxis]\n",
    "\n",
    "X=X.astype(np.float32)\n",
    "y=y.astype(np.float32)"
   ]
  },
  {
   "cell_type": "code",
   "execution_count": 24,
   "metadata": {},
   "outputs": [
    {
     "data": {
      "text/plain": [
       "(array([[2.104e+03, 3.000e+00],\n",
       "        [1.600e+03, 3.000e+00],\n",
       "        [2.400e+03, 3.000e+00],\n",
       "        [1.416e+03, 2.000e+00],\n",
       "        [3.000e+03, 4.000e+00],\n",
       "        [1.985e+03, 4.000e+00],\n",
       "        [1.534e+03, 3.000e+00],\n",
       "        [1.427e+03, 3.000e+00],\n",
       "        [1.380e+03, 3.000e+00],\n",
       "        [1.494e+03, 3.000e+00]], dtype=float32),\n",
       " array([[399900.],\n",
       "        [329900.],\n",
       "        [369000.],\n",
       "        [232000.],\n",
       "        [539900.],\n",
       "        [299900.],\n",
       "        [314900.],\n",
       "        [198999.],\n",
       "        [212000.],\n",
       "        [242500.]], dtype=float32))"
      ]
     },
     "execution_count": 24,
     "metadata": {},
     "output_type": "execute_result"
    }
   ],
   "source": [
    "X[:10,:], y[:10,:]"
   ]
  },
  {
   "cell_type": "code",
   "execution_count": 25,
   "metadata": {},
   "outputs": [],
   "source": [
    "# Feature Normalization\n",
    "def featureNormalize(X):\n",
    "    X_norm=X\n",
    "    n=X.shape[1]\n",
    "    mu=np.zeros((1, n))\n",
    "    sigma=np.zeros((1, n))\n",
    "    \n",
    "    for i in range(n):\n",
    "        mu[:,i]=X[:,i].mean()\n",
    "        sigma[:,i]=X[:,i].std()\n",
    "        \n",
    "        if sigma[:,i] == 0:\n",
    "            X_norm[:,i]=X[:,0] - mu[:,i]\n",
    "        else:\n",
    "            X_norm[:,i]=( X[:,i] - mu[:,i] ) / sigma[:,i]\n",
    "            \n",
    "    return X_norm, mu, sigma"
   ]
  },
  {
   "cell_type": "code",
   "execution_count": 26,
   "metadata": {},
   "outputs": [],
   "source": [
    "# Scale features and set them to zero mean\n",
    "X, mu, sigma = featureNormalize(X)"
   ]
  },
  {
   "cell_type": "code",
   "execution_count": 27,
   "metadata": {},
   "outputs": [],
   "source": [
    "# Add intercept term to X\n",
    "n=X.shape[1]+1 # number of features + 1\n",
    "m=X.shape[0] # number of training examples\n",
    "X=np.append(np.ones((m,1)), X, axis=1) # Add a column of ones to x"
   ]
  },
  {
   "cell_type": "code",
   "execution_count": 31,
   "metadata": {},
   "outputs": [
    {
     "name": "stdout",
     "output_type": "stream",
     "text": [
      "Theta computed from gradient descent:       \n",
      "[340412.66785091],\n",
      "[109447.79886407],\n",
      "[-6578.35549643]\n"
     ]
    }
   ],
   "source": [
    "# Run gradient descent\n",
    "# Choose some alpha value\n",
    "alpha=0.1\n",
    "num_iters=400\n",
    "\n",
    "# Init Theta and Run Gradient Descent \n",
    "theta=np.zeros((n,1))\n",
    "theta, *_=gradientDescentMulti(X, y, theta, alpha, num_iters, m, n)\n",
    "\n",
    "print('Theta computed from gradient descent: \\\n",
    "      \\n{},\\n{},\\n{}'.format(theta[0],theta[1], theta[2]))"
   ]
  },
  {
   "cell_type": "code",
   "execution_count": 32,
   "metadata": {},
   "outputs": [],
   "source": [
    "def computeCostMulti(X, y, theta, m):\n",
    "    J=np.matmul( np.transpose( np.matmul( X,theta) - y), \\\n",
    "          np.matmul(X,theta) - y) / (2*m)\n",
    "    return J"
   ]
  },
  {
   "cell_type": "code",
   "execution_count": 33,
   "metadata": {},
   "outputs": [],
   "source": [
    "def gradientDescentMulti(X, y, theta, alpha, num_iters, m, n):\n",
    "    J_history=np.zeros((num_iters, 1))\n",
    "    \n",
    "    for i_it in range(num_iters):\n",
    "        \n",
    "        for i_th in range(n):\n",
    "            theta[i_th]=theta[i_th] - (alpha/m * (np.sum ((( \\\n",
    "                np.matmul(X,theta) - y) * \\\n",
    "                X[:,i_th].reshape((X[:,i_th].shape[0],1))))))\n",
    "            \n",
    "        J_history[i_it]=computeCostMulti(X, y, theta,m)\n",
    "    \n",
    "    return theta, J_history"
   ]
  },
  {
   "cell_type": "code",
   "execution_count": 34,
   "metadata": {},
   "outputs": [
    {
     "name": "stdout",
     "output_type": "stream",
     "text": [
      "Predicted price of a 1650 sq-ft, 3 br house (using gradient descent):\n",
      " $[340412.66785091]\n"
     ]
    }
   ],
   "source": [
    "# Estimate the price of a 1650 sq-ft, 3 br house\n",
    "X=np.array([1650, 3], dtype=np.float32)\n",
    "X=np.append(np.ones(1), X, axis=0)\n",
    "\n",
    "price=np.matmul(X,theta)\n",
    "print('Predicted price of a 1650 sq-ft, 3 br house \\\n",
    "(using gradient descent):\\n ${}'.format( \\\n",
    "        theta[0],theta[1], theta[2]))"
   ]
  },
  {
   "cell_type": "code",
   "execution_count": 36,
   "metadata": {},
   "outputs": [
    {
     "ename": "IndexError",
     "evalue": "too many indices for array: array is 1-dimensional, but 2 were indexed",
     "output_type": "error",
     "traceback": [
      "\u001b[1;31m---------------------------------------------------------------------------\u001b[0m",
      "\u001b[1;31mIndexError\u001b[0m                                Traceback (most recent call last)",
      "\u001b[1;32m<ipython-input-36-8499db02830f>\u001b[0m in \u001b[0;36m<module>\u001b[1;34m\u001b[0m\n\u001b[0;32m      5\u001b[0m \u001b[0mtheta\u001b[0m\u001b[1;33m=\u001b[0m\u001b[0mnp\u001b[0m\u001b[1;33m.\u001b[0m\u001b[0mzeros\u001b[0m\u001b[1;33m(\u001b[0m\u001b[1;33m(\u001b[0m\u001b[0mn\u001b[0m\u001b[1;33m,\u001b[0m\u001b[1;36m1\u001b[0m\u001b[1;33m)\u001b[0m\u001b[1;33m)\u001b[0m\u001b[1;33m\u001b[0m\u001b[1;33m\u001b[0m\u001b[0m\n\u001b[0;32m      6\u001b[0m theta, J_history=gradientDescentMulti(X, y, \\\n\u001b[1;32m----> 7\u001b[1;33m                     theta, alpha, num_iters, m, n)\n\u001b[0m\u001b[0;32m      8\u001b[0m \u001b[1;33m\u001b[0m\u001b[0m\n\u001b[0;32m      9\u001b[0m \u001b[0mplt\u001b[0m\u001b[1;33m.\u001b[0m\u001b[0mplot\u001b[0m\u001b[1;33m(\u001b[0m\u001b[0mnp\u001b[0m\u001b[1;33m.\u001b[0m\u001b[0marange\u001b[0m\u001b[1;33m(\u001b[0m\u001b[1;36m1\u001b[0m\u001b[1;33m,\u001b[0m\u001b[1;36m51\u001b[0m\u001b[1;33m)\u001b[0m\u001b[1;33m,\u001b[0m \u001b[0mJ_history\u001b[0m\u001b[1;33m,\u001b[0m \u001b[1;34m'-b'\u001b[0m\u001b[1;33m)\u001b[0m\u001b[1;33m\u001b[0m\u001b[1;33m\u001b[0m\u001b[0m\n",
      "\u001b[1;32m<ipython-input-33-ff69fb5394cf>\u001b[0m in \u001b[0;36mgradientDescentMulti\u001b[1;34m(X, y, theta, alpha, num_iters, m, n)\u001b[0m\n\u001b[0;32m      7\u001b[0m             theta[i_th]=theta[i_th] - (alpha/m * (np.sum ((( \\\n\u001b[0;32m      8\u001b[0m                 np.matmul(X,theta) - y) * \\\n\u001b[1;32m----> 9\u001b[1;33m                 X[:,i_th].reshape((X[:,i_th].shape[0],1))))))\n\u001b[0m\u001b[0;32m     10\u001b[0m \u001b[1;33m\u001b[0m\u001b[0m\n\u001b[0;32m     11\u001b[0m         \u001b[0mJ_history\u001b[0m\u001b[1;33m[\u001b[0m\u001b[0mi_it\u001b[0m\u001b[1;33m]\u001b[0m\u001b[1;33m=\u001b[0m\u001b[0mcomputeCostMulti\u001b[0m\u001b[1;33m(\u001b[0m\u001b[0mX\u001b[0m\u001b[1;33m,\u001b[0m \u001b[0my\u001b[0m\u001b[1;33m,\u001b[0m \u001b[0mtheta\u001b[0m\u001b[1;33m,\u001b[0m\u001b[0mm\u001b[0m\u001b[1;33m)\u001b[0m\u001b[1;33m\u001b[0m\u001b[1;33m\u001b[0m\u001b[0m\n",
      "\u001b[1;31mIndexError\u001b[0m: too many indices for array: array is 1-dimensional, but 2 were indexed"
     ]
    }
   ],
   "source": [
    "# Selecting learning rates\n",
    "alpha=0.1\n",
    "num_iters=50\n",
    "\n",
    "theta=np.zeros((n,1))\n",
    "theta, J_history=gradientDescentMulti(X, y, \\\n",
    "                    theta, alpha, num_iters, m, n)\n",
    "\n",
    "plt.plot(np.arange(1,51), J_history, '-b')\n",
    "plt.xlabel('Number of iterations')\n",
    "plt.ylabel('Cost J')"
   ]
  },
  {
   "cell_type": "code",
   "execution_count": 38,
   "metadata": {},
   "outputs": [
    {
     "ename": "IndexError",
     "evalue": "too many indices for array: array is 1-dimensional, but 2 were indexed",
     "output_type": "error",
     "traceback": [
      "\u001b[1;31m---------------------------------------------------------------------------\u001b[0m",
      "\u001b[1;31mIndexError\u001b[0m                                Traceback (most recent call last)",
      "\u001b[1;32m<ipython-input-38-c573f202cfde>\u001b[0m in \u001b[0;36m<module>\u001b[1;34m\u001b[0m\n\u001b[0;32m      6\u001b[0m     \u001b[0mtheta\u001b[0m\u001b[1;33m=\u001b[0m\u001b[0mnp\u001b[0m\u001b[1;33m.\u001b[0m\u001b[0mzeros\u001b[0m\u001b[1;33m(\u001b[0m\u001b[1;33m(\u001b[0m\u001b[0mn\u001b[0m\u001b[1;33m,\u001b[0m\u001b[1;36m1\u001b[0m\u001b[1;33m)\u001b[0m\u001b[1;33m)\u001b[0m\u001b[1;33m\u001b[0m\u001b[1;33m\u001b[0m\u001b[0m\n\u001b[0;32m      7\u001b[0m     theta, J_history=gradientDescentMulti(X, y, \\\n\u001b[1;32m----> 8\u001b[1;33m                     theta, i, num_iters, m, n)\n\u001b[0m\u001b[0;32m      9\u001b[0m \u001b[1;33m\u001b[0m\u001b[0m\n\u001b[0;32m     10\u001b[0m     \u001b[0mplt\u001b[0m\u001b[1;33m.\u001b[0m\u001b[0mplot\u001b[0m\u001b[1;33m(\u001b[0m\u001b[0mnp\u001b[0m\u001b[1;33m.\u001b[0m\u001b[0marange\u001b[0m\u001b[1;33m(\u001b[0m\u001b[1;36m1\u001b[0m\u001b[1;33m,\u001b[0m\u001b[1;36m51\u001b[0m\u001b[1;33m)\u001b[0m\u001b[1;33m,\u001b[0m \u001b[0mJ_history\u001b[0m\u001b[1;33m)\u001b[0m\u001b[1;33m\u001b[0m\u001b[1;33m\u001b[0m\u001b[0m\n",
      "\u001b[1;32m<ipython-input-33-ff69fb5394cf>\u001b[0m in \u001b[0;36mgradientDescentMulti\u001b[1;34m(X, y, theta, alpha, num_iters, m, n)\u001b[0m\n\u001b[0;32m      7\u001b[0m             theta[i_th]=theta[i_th] - (alpha/m * (np.sum ((( \\\n\u001b[0;32m      8\u001b[0m                 np.matmul(X,theta) - y) * \\\n\u001b[1;32m----> 9\u001b[1;33m                 X[:,i_th].reshape((X[:,i_th].shape[0],1))))))\n\u001b[0m\u001b[0;32m     10\u001b[0m \u001b[1;33m\u001b[0m\u001b[0m\n\u001b[0;32m     11\u001b[0m         \u001b[0mJ_history\u001b[0m\u001b[1;33m[\u001b[0m\u001b[0mi_it\u001b[0m\u001b[1;33m]\u001b[0m\u001b[1;33m=\u001b[0m\u001b[0mcomputeCostMulti\u001b[0m\u001b[1;33m(\u001b[0m\u001b[0mX\u001b[0m\u001b[1;33m,\u001b[0m \u001b[0my\u001b[0m\u001b[1;33m,\u001b[0m \u001b[0mtheta\u001b[0m\u001b[1;33m,\u001b[0m\u001b[0mm\u001b[0m\u001b[1;33m)\u001b[0m\u001b[1;33m\u001b[0m\u001b[1;33m\u001b[0m\u001b[0m\n",
      "\u001b[1;31mIndexError\u001b[0m: too many indices for array: array is 1-dimensional, but 2 were indexed"
     ]
    }
   ],
   "source": [
    "# costs using different alphas\n",
    "alphas=np.array([1,0.3,0.1, 0.03, 0.001, 0.00003])\n",
    "num_iters=50\n",
    "\n",
    "for i in alphas:\n",
    "    theta=np.zeros((n,1))\n",
    "    theta, J_history=gradientDescentMulti(X, y, \\\n",
    "                    theta, i, num_iters, m, n)\n",
    "    \n",
    "    plt.plot(np.arange(1,51), J_history)\n",
    "    \n",
    "plt.xlabel('Number of iterations')\n",
    "plt.ylabel('Cost J')"
   ]
  },
  {
   "cell_type": "code",
   "execution_count": 39,
   "metadata": {},
   "outputs": [
    {
     "data": {
      "text/plain": [
       "(50,)"
      ]
     },
     "execution_count": 39,
     "metadata": {},
     "output_type": "execute_result"
    }
   ],
   "source": [
    "np.arange(1,51).shape"
   ]
  },
  {
   "cell_type": "code",
   "execution_count": 40,
   "metadata": {},
   "outputs": [
    {
     "data": {
      "text/plain": [
       "0.3"
      ]
     },
     "execution_count": 40,
     "metadata": {},
     "output_type": "execute_result"
    }
   ],
   "source": [
    "alphas[1]"
   ]
  },
  {
   "cell_type": "code",
   "execution_count": null,
   "metadata": {},
   "outputs": [],
   "source": []
  },
  {
   "cell_type": "code",
   "execution_count": null,
   "metadata": {},
   "outputs": [],
   "source": []
  }
 ],
 "metadata": {
  "kernelspec": {
   "display_name": "Python 3",
   "language": "python",
   "name": "python3"
  },
  "language_info": {
   "codemirror_mode": {
    "name": "ipython",
    "version": 3
   },
   "file_extension": ".py",
   "mimetype": "text/x-python",
   "name": "python",
   "nbconvert_exporter": "python",
   "pygments_lexer": "ipython3",
   "version": "3.7.5"
  }
 },
 "nbformat": 4,
 "nbformat_minor": 4
}
